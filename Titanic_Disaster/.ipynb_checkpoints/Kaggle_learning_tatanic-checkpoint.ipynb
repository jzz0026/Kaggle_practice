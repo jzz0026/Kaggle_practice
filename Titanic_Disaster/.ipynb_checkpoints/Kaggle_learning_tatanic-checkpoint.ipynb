{
 "cells": [
  {
   "cell_type": "code",
   "execution_count": 1,
   "metadata": {},
   "outputs": [
    {
     "name": "stdout",
     "output_type": "stream",
     "text": [
      "Kaggle_learning_tatanic.ipynb         logistic_regression_predictions.csv\r\n",
      "SVC_rbf_predictions_more_features.csv test.csv\r\n",
      "gender_submission.csv                 train.csv\r\n"
     ]
    }
   ],
   "source": [
    "import pandas as pd\n",
    "import seaborn as sns\n",
    "import numpy as np\n",
    "import pandas as pd\n",
    "from scipy import stats, integrate\n",
    "import matplotlib.pyplot as plt\n",
    "from matplotlib import gridspec\n",
    "\n",
    "%matplotlib inline\n",
    "!ls"
   ]
  },
  {
   "cell_type": "code",
   "execution_count": 2,
   "metadata": {
    "scrolled": false
   },
   "outputs": [
    {
     "data": {
      "text/html": [
       "<div>\n",
       "<style>\n",
       "    .dataframe thead tr:only-child th {\n",
       "        text-align: right;\n",
       "    }\n",
       "\n",
       "    .dataframe thead th {\n",
       "        text-align: left;\n",
       "    }\n",
       "\n",
       "    .dataframe tbody tr th {\n",
       "        vertical-align: top;\n",
       "    }\n",
       "</style>\n",
       "<table border=\"1\" class=\"dataframe\">\n",
       "  <thead>\n",
       "    <tr style=\"text-align: right;\">\n",
       "      <th></th>\n",
       "      <th>PassengerId</th>\n",
       "      <th>Survived</th>\n",
       "      <th>Pclass</th>\n",
       "      <th>Age</th>\n",
       "      <th>SibSp</th>\n",
       "      <th>Parch</th>\n",
       "      <th>Fare</th>\n",
       "    </tr>\n",
       "  </thead>\n",
       "  <tbody>\n",
       "    <tr>\n",
       "      <th>count</th>\n",
       "      <td>891.000000</td>\n",
       "      <td>891.000000</td>\n",
       "      <td>891.000000</td>\n",
       "      <td>714.000000</td>\n",
       "      <td>891.000000</td>\n",
       "      <td>891.000000</td>\n",
       "      <td>891.000000</td>\n",
       "    </tr>\n",
       "    <tr>\n",
       "      <th>mean</th>\n",
       "      <td>446.000000</td>\n",
       "      <td>0.383838</td>\n",
       "      <td>2.308642</td>\n",
       "      <td>29.699118</td>\n",
       "      <td>0.523008</td>\n",
       "      <td>0.381594</td>\n",
       "      <td>32.204208</td>\n",
       "    </tr>\n",
       "    <tr>\n",
       "      <th>std</th>\n",
       "      <td>257.353842</td>\n",
       "      <td>0.486592</td>\n",
       "      <td>0.836071</td>\n",
       "      <td>14.526497</td>\n",
       "      <td>1.102743</td>\n",
       "      <td>0.806057</td>\n",
       "      <td>49.693429</td>\n",
       "    </tr>\n",
       "    <tr>\n",
       "      <th>min</th>\n",
       "      <td>1.000000</td>\n",
       "      <td>0.000000</td>\n",
       "      <td>1.000000</td>\n",
       "      <td>0.420000</td>\n",
       "      <td>0.000000</td>\n",
       "      <td>0.000000</td>\n",
       "      <td>0.000000</td>\n",
       "    </tr>\n",
       "    <tr>\n",
       "      <th>25%</th>\n",
       "      <td>223.500000</td>\n",
       "      <td>0.000000</td>\n",
       "      <td>2.000000</td>\n",
       "      <td>20.125000</td>\n",
       "      <td>0.000000</td>\n",
       "      <td>0.000000</td>\n",
       "      <td>7.910400</td>\n",
       "    </tr>\n",
       "    <tr>\n",
       "      <th>50%</th>\n",
       "      <td>446.000000</td>\n",
       "      <td>0.000000</td>\n",
       "      <td>3.000000</td>\n",
       "      <td>28.000000</td>\n",
       "      <td>0.000000</td>\n",
       "      <td>0.000000</td>\n",
       "      <td>14.454200</td>\n",
       "    </tr>\n",
       "    <tr>\n",
       "      <th>75%</th>\n",
       "      <td>668.500000</td>\n",
       "      <td>1.000000</td>\n",
       "      <td>3.000000</td>\n",
       "      <td>38.000000</td>\n",
       "      <td>1.000000</td>\n",
       "      <td>0.000000</td>\n",
       "      <td>31.000000</td>\n",
       "    </tr>\n",
       "    <tr>\n",
       "      <th>max</th>\n",
       "      <td>891.000000</td>\n",
       "      <td>1.000000</td>\n",
       "      <td>3.000000</td>\n",
       "      <td>80.000000</td>\n",
       "      <td>8.000000</td>\n",
       "      <td>6.000000</td>\n",
       "      <td>512.329200</td>\n",
       "    </tr>\n",
       "  </tbody>\n",
       "</table>\n",
       "</div>"
      ],
      "text/plain": [
       "       PassengerId    Survived      Pclass         Age       SibSp  \\\n",
       "count   891.000000  891.000000  891.000000  714.000000  891.000000   \n",
       "mean    446.000000    0.383838    2.308642   29.699118    0.523008   \n",
       "std     257.353842    0.486592    0.836071   14.526497    1.102743   \n",
       "min       1.000000    0.000000    1.000000    0.420000    0.000000   \n",
       "25%     223.500000    0.000000    2.000000   20.125000    0.000000   \n",
       "50%     446.000000    0.000000    3.000000   28.000000    0.000000   \n",
       "75%     668.500000    1.000000    3.000000   38.000000    1.000000   \n",
       "max     891.000000    1.000000    3.000000   80.000000    8.000000   \n",
       "\n",
       "            Parch        Fare  \n",
       "count  891.000000  891.000000  \n",
       "mean     0.381594   32.204208  \n",
       "std      0.806057   49.693429  \n",
       "min      0.000000    0.000000  \n",
       "25%      0.000000    7.910400  \n",
       "50%      0.000000   14.454200  \n",
       "75%      0.000000   31.000000  \n",
       "max      6.000000  512.329200  "
      ]
     },
     "execution_count": 2,
     "metadata": {},
     "output_type": "execute_result"
    }
   ],
   "source": [
    "data_train = pd.read_csv(\"train.csv\")\n",
    "data_test = pd.read_csv(\"test.csv\")\n",
    "\n",
    "data_train.describe() ## NaN in Age\n"
   ]
  },
  {
   "cell_type": "markdown",
   "metadata": {},
   "source": [
    "## data info\n",
    "### 1. 38% people survived \n",
    "### 2. 2/3 class have more people than 1 class\n",
    "### 3. average age 29"
   ]
  },
  {
   "cell_type": "markdown",
   "metadata": {},
   "source": [
    "## plot some general information"
   ]
  },
  {
   "cell_type": "code",
   "execution_count": 3,
   "metadata": {
    "scrolled": false
   },
   "outputs": [
    {
     "name": "stderr",
     "output_type": "stream",
     "text": [
      "/Users/jzz0026/anaconda3/lib/python3.6/site-packages/statsmodels/nonparametric/kde.py:454: RuntimeWarning: invalid value encountered in greater\n",
      "  X = X[np.logical_and(X>clip[0], X<clip[1])] # won't work for two columns.\n",
      "/Users/jzz0026/anaconda3/lib/python3.6/site-packages/statsmodels/nonparametric/kde.py:454: RuntimeWarning: invalid value encountered in less\n",
      "  X = X[np.logical_and(X>clip[0], X<clip[1])] # won't work for two columns.\n"
     ]
    },
    {
     "data": {
      "image/png": "[encoded data removed]",
      "text/plain": [
       "<matplotlib.figure.Figure at 0x116d82f28>"
      ]
     },
     "metadata": {},
     "output_type": "display_data"
    }
   ],
   "source": [
    "#sns.pairplot(x_vars=[\"Pclass\",\"Sex\",\"Age\",\"SibSp\",\"Parch\",\"Embarked\"],data=data_train)\n",
    "fig = plt.figure(figsize=(20,10))\n",
    "gs = gridspec.GridSpec(3, 4)\n",
    "plt.subplot(gs[0])\n",
    "data_train.Survived.value_counts().plot(kind='bar')\n",
    "plt.title('Survived')\n",
    "plt.subplot(gs[1])\n",
    "data_train[\"Sex\"].value_counts().plot(kind='bar')\n",
    "plt.title('Sex')\n",
    "plt.subplot(gs[2])\n",
    "#plt.hist(data_train[\"Age\"])\n",
    "sns.kdeplot(data_train[data_train[\"Pclass\"]== 1][\"Age\"],label='class 1')\n",
    "sns.kdeplot(data_train[data_train[\"Pclass\"]== 2][\"Age\"],label='class 2')\n",
    "sns.kdeplot(data_train[data_train[\"Pclass\"]== 3][\"Age\"],label='class 3')\n",
    "plt.title('Age')\n",
    "plt.subplot(gs[3])\n",
    "pclass = data_train[\"Pclass\"].value_counts()\n",
    "sns.barplot(x=pclass.index,y=pclass)\n",
    "plt.title('Pclass')\n",
    "plt.subplot(gs[4])\n",
    "data_train[\"SibSp\"].value_counts().plot(kind='bar')\n",
    "plt.title('SibSp')\n",
    "plt.subplot(gs[5])\n",
    "data_train[\"Parch\"].value_counts().plot(kind='bar')\n",
    "plt.title('Parch')\n",
    "plt.subplot(gs[6])\n",
    "data_train[\"Embarked\"].value_counts().plot(kind='bar')\n",
    "plt.title('Embarked')\n",
    "plt.subplot(gs[7])\n",
    "sns.regplot(y='Survived',x='Age',fit_reg=False,data=data_train)\n",
    "plt.title('Embarked')\n",
    "\n",
    "fig.tight_layout()\n"
   ]
  },
  {
   "cell_type": "markdown",
   "metadata": {},
   "source": [
    "## Plot sth against Survived or not"
   ]
  },
  {
   "cell_type": "code",
   "execution_count": 4,
   "metadata": {
    "scrolled": false
   },
   "outputs": [
    {
     "data": {
      "text/plain": [
       "<seaborn.axisgrid.FacetGrid at 0x11999a3c8>"
      ]
     },
     "execution_count": 4,
     "metadata": {},
     "output_type": "execute_result"
    },
    {
     "data": {
      "image/png": "[encoded data removed]",
      "text/plain": [
       "<matplotlib.figure.Figure at 0x1199af9b0>"
      ]
     },
     "metadata": {},
     "output_type": "display_data"
    },
    {
     "data": {
      "image/png": "[encoded data removed]",
      "text/plain": [
       "<matplotlib.figure.Figure at 0x119db5c18>"
      ]
     },
     "metadata": {},
     "output_type": "display_data"
    },
    {
     "data": {
      "image/png": "[encoded data removed]",
      "text/plain": [
       "<matplotlib.figure.Figure at 0x119e2aba8>"
      ]
     },
     "metadata": {},
     "output_type": "display_data"
    },
    {
     "data": {
      "image/png": "[encoded data removed]",
      "text/plain": [
       "<matplotlib.figure.Figure at 0x119f32ac8>"
      ]
     },
     "metadata": {},
     "output_type": "display_data"
    },
    {
     "data": {
      "image/png": "[encoded data removed]",
      "text/plain": [
       "<matplotlib.figure.Figure at 0x119d73cc0>"
      ]
     },
     "metadata": {},
     "output_type": "display_data"
    }
   ],
   "source": [
    "#sns.distplot(data_train[\"Parch\"])\n",
    "#sns.distplot(data_train[data_train[\"Survived\"] == 1][\"Age\"])\n",
    "fig = plt.figure(figsize=(20,15))\n",
    "gs = gridspec.GridSpec(3, 3)\n",
    "plt.subplot(gs[0])\n",
    "dSurvived = data_train[data_train[\"Survived\"] == 1]\n",
    "dUSurvived = data_train[data_train[\"Survived\"] == 0]\n",
    "plt.hist(dSurvived[~dSurvived[\"Age\"].isnull()][\"Age\"],alpha=0.2,label='Survived')\n",
    "plt.hist(dUSurvived[~dUSurvived[\"Age\"].isnull()][\"Age\"],alpha=0.2,label='Dead')\n",
    "plt.legend()\n",
    "plt.subplot(gs[1])\n",
    "#plt.bar(dSurvived[~dSurvived[\"Sex\"].isnull()][\"Sex\"],alpha=0.2,label='Survived')\n",
    "dSurvivedsex = dSurvived[\"Sex\"].value_counts().sort_index()\n",
    "dUSurvivedsex = dUSurvived[\"Sex\"].value_counts().sort_index()\n",
    "plt.bar(dSurvivedsex.index,dSurvivedsex,label='Survived')\n",
    "plt.bar(dUSurvivedsex.index,dUSurvivedsex,bottom=dSurvivedsex,label='Dead')\n",
    "plt.legend()\n",
    "plt.subplot(gs[2])\n",
    "dSurvivedPclass = dSurvived[\"Pclass\"].value_counts().sort_index()\n",
    "dSurvivedPclass.index = dSurvivedPclass.index.astype(\"str\")\n",
    "dUSurvivedPclass = dUSurvived[\"Pclass\"].value_counts().sort_index()\n",
    "dUSurvivedPclass.index = dUSurvivedPclass.index.astype(\"str\")\n",
    "plt.bar(dSurvivedPclass.index,dSurvivedPclass,label='Survived')\n",
    "plt.bar(dUSurvivedPclass.index,dUSurvivedPclass,bottom=dSurvivedPclass,label='Dead')\n",
    "plt.xlabel(\"Pclass\")\n",
    "plt.legend()\n",
    "plt.subplot(gs[3])\n",
    "data_train_t = data_train.copy()\n",
    "data_train_t.loc[~data_train_t[\"Cabin\"].isnull(),\"Cabin\"] = 1\n",
    "data_train_t.loc[data_train_t[\"Cabin\"].isnull(),\"Cabin\"] = 0\n",
    "dft = pd.DataFrame(data_train_t.groupby(\"Cabin\")[\"Survived\"].mean())\n",
    "dft.index = dft.index.astype(\"str\")\n",
    "plt.bar(dft.index,dft.iloc[:,0])\n",
    "plt.ylabel(\"Survived %\")\n",
    "plt.xlabel(\"with/without cabin\")\n",
    "\n",
    "sns.factorplot(x=\"Pclass\", y=\"Survived\", hue=\"Sex\", data=data_train,\n",
    "                   size=4, kind=\"bar\")\n",
    "sns.factorplot(x=\"Embarked\", y=\"Survived\", data=data_train,\n",
    "                   size=4, kind=\"bar\")\n",
    "sns.factorplot(x=\"SibSp\", y=\"Survived\", data=data_train,\n",
    "                   size=4, kind=\"bar\")\n",
    "sns.factorplot(x=\"Parch\", y=\"Survived\", data=data_train,\n",
    "                   size=4, kind=\"bar\")\n"
   ]
  },
  {
   "cell_type": "markdown",
   "metadata": {},
   "source": [
    "## Feature engineer\n",
    "### 1. set missing ages"
   ]
  },
  {
   "cell_type": "code",
   "execution_count": 5,
   "metadata": {
    "scrolled": false
   },
   "outputs": [
    {
     "data": {
      "text/html": [
       "<div>\n",
       "<style>\n",
       "    .dataframe thead tr:only-child th {\n",
       "        text-align: right;\n",
       "    }\n",
       "\n",
       "    .dataframe thead th {\n",
       "        text-align: left;\n",
       "    }\n",
       "\n",
       "    .dataframe tbody tr th {\n",
       "        vertical-align: top;\n",
       "    }\n",
       "</style>\n",
       "<table border=\"1\" class=\"dataframe\">\n",
       "  <thead>\n",
       "    <tr style=\"text-align: right;\">\n",
       "      <th></th>\n",
       "      <th>PassengerId</th>\n",
       "      <th>Survived</th>\n",
       "      <th>Pclass</th>\n",
       "      <th>Name</th>\n",
       "      <th>Sex</th>\n",
       "      <th>Age</th>\n",
       "      <th>SibSp</th>\n",
       "      <th>Parch</th>\n",
       "      <th>Ticket</th>\n",
       "      <th>Fare</th>\n",
       "      <th>Cabin</th>\n",
       "      <th>Embarked</th>\n",
       "    </tr>\n",
       "  </thead>\n",
       "  <tbody>\n",
       "    <tr>\n",
       "      <th>0</th>\n",
       "      <td>1</td>\n",
       "      <td>0</td>\n",
       "      <td>3</td>\n",
       "      <td>Braund, Mr. Owen Harris</td>\n",
       "      <td>male</td>\n",
       "      <td>22.0</td>\n",
       "      <td>1</td>\n",
       "      <td>0</td>\n",
       "      <td>A/5 21171</td>\n",
       "      <td>7.2500</td>\n",
       "      <td>No</td>\n",
       "      <td>S</td>\n",
       "    </tr>\n",
       "    <tr>\n",
       "      <th>1</th>\n",
       "      <td>2</td>\n",
       "      <td>1</td>\n",
       "      <td>1</td>\n",
       "      <td>Cumings, Mrs. John Bradley (Florence Briggs Th...</td>\n",
       "      <td>female</td>\n",
       "      <td>38.0</td>\n",
       "      <td>1</td>\n",
       "      <td>0</td>\n",
       "      <td>PC 17599</td>\n",
       "      <td>71.2833</td>\n",
       "      <td>Yes</td>\n",
       "      <td>C</td>\n",
       "    </tr>\n",
       "    <tr>\n",
       "      <th>2</th>\n",
       "      <td>3</td>\n",
       "      <td>1</td>\n",
       "      <td>3</td>\n",
       "      <td>Heikkinen, Miss. Laina</td>\n",
       "      <td>female</td>\n",
       "      <td>26.0</td>\n",
       "      <td>0</td>\n",
       "      <td>0</td>\n",
       "      <td>STON/O2. 3101282</td>\n",
       "      <td>7.9250</td>\n",
       "      <td>No</td>\n",
       "      <td>S</td>\n",
       "    </tr>\n",
       "    <tr>\n",
       "      <th>3</th>\n",
       "      <td>4</td>\n",
       "      <td>1</td>\n",
       "      <td>1</td>\n",
       "      <td>Futrelle, Mrs. Jacques Heath (Lily May Peel)</td>\n",
       "      <td>female</td>\n",
       "      <td>35.0</td>\n",
       "      <td>1</td>\n",
       "      <td>0</td>\n",
       "      <td>113803</td>\n",
       "      <td>53.1000</td>\n",
       "      <td>Yes</td>\n",
       "      <td>S</td>\n",
       "    </tr>\n",
       "    <tr>\n",
       "      <th>4</th>\n",
       "      <td>5</td>\n",
       "      <td>0</td>\n",
       "      <td>3</td>\n",
       "      <td>Allen, Mr. William Henry</td>\n",
       "      <td>male</td>\n",
       "      <td>35.0</td>\n",
       "      <td>0</td>\n",
       "      <td>0</td>\n",
       "      <td>373450</td>\n",
       "      <td>8.0500</td>\n",
       "      <td>No</td>\n",
       "      <td>S</td>\n",
       "    </tr>\n",
       "  </tbody>\n",
       "</table>\n",
       "</div>"
      ],
      "text/plain": [
       "   PassengerId  Survived  Pclass  \\\n",
       "0            1         0       3   \n",
       "1            2         1       1   \n",
       "2            3         1       3   \n",
       "3            4         1       1   \n",
       "4            5         0       3   \n",
       "\n",
       "                                                Name     Sex   Age  SibSp  \\\n",
       "0                            Braund, Mr. Owen Harris    male  22.0      1   \n",
       "1  Cumings, Mrs. John Bradley (Florence Briggs Th...  female  38.0      1   \n",
       "2                             Heikkinen, Miss. Laina  female  26.0      0   \n",
       "3       Futrelle, Mrs. Jacques Heath (Lily May Peel)  female  35.0      1   \n",
       "4                           Allen, Mr. William Henry    male  35.0      0   \n",
       "\n",
       "   Parch            Ticket     Fare Cabin Embarked  \n",
       "0      0         A/5 21171   7.2500    No        S  \n",
       "1      0          PC 17599  71.2833   Yes        C  \n",
       "2      0  STON/O2. 3101282   7.9250    No        S  \n",
       "3      0            113803  53.1000   Yes        S  \n",
       "4      0            373450   8.0500    No        S  "
      ]
     },
     "execution_count": 5,
     "metadata": {},
     "output_type": "execute_result"
    }
   ],
   "source": [
    "from sklearn.ensemble import RandomForestRegressor\n",
    "\n",
    "def set_missing_ages(data_train_t):\n",
    "    ## using 'Age','Fare', 'Parch', 'SibSp', 'Pclass' to predict age\n",
    "    age_df = data_train_t[['Age','Fare', 'Parch', 'SibSp', 'Pclass']]\n",
    "    \n",
    "    ## set known_age and unknown_age\n",
    "    known_age = age_df[age_df.Age.notnull()]\n",
    "    unknown_age = age_df[age_df.Age.isnull()]\n",
    "    y = known_age.iloc[:, 0]\n",
    "    X = known_age.iloc[:, 1:]\n",
    "    \n",
    "    ## set model RandomForestRegressor\n",
    "    rfr = RandomForestRegressor(n_estimators=2000,n_jobs=-1,random_state=0)\n",
    "    rfr.fit(X,y)\n",
    "\n",
    "    ## using constructed model to predicted NaN of ages\n",
    "    predicted_age = rfr.predict(unknown_age.iloc[:, 1:])\n",
    "    data_train_t.loc[data_train_t[\"Age\"].isnull(),\"Age\"] = predicted_age\n",
    "    return data_train_t, rfr\n",
    "\n",
    "## chang cabin to Yes or No\n",
    "def chang_cabin(data_train):\n",
    "    data_train.loc[data_train[\"Cabin\"].notnull(),\"Cabin\"] = \"Yes\"\n",
    "    data_train.loc[data_train[\"Cabin\"].isnull(),\"Cabin\"] = \"No\"\n",
    "    return data_train\n",
    "\n",
    "data_train, rfr = set_missing_ages(data_train)\n",
    "data_train = chang_cabin(data_train)\n",
    "data_train.head()"
   ]
  },
  {
   "cell_type": "markdown",
   "metadata": {},
   "source": [
    "### 2. transform category in X to binary "
   ]
  },
  {
   "cell_type": "code",
   "execution_count": 6,
   "metadata": {
    "scrolled": false
   },
   "outputs": [
    {
     "data": {
      "text/html": [
       "<div>\n",
       "<style>\n",
       "    .dataframe thead tr:only-child th {\n",
       "        text-align: right;\n",
       "    }\n",
       "\n",
       "    .dataframe thead th {\n",
       "        text-align: left;\n",
       "    }\n",
       "\n",
       "    .dataframe tbody tr th {\n",
       "        vertical-align: top;\n",
       "    }\n",
       "</style>\n",
       "<table border=\"1\" class=\"dataframe\">\n",
       "  <thead>\n",
       "    <tr style=\"text-align: right;\">\n",
       "      <th></th>\n",
       "      <th>PassengerId</th>\n",
       "      <th>Survived</th>\n",
       "      <th>Name</th>\n",
       "      <th>Age</th>\n",
       "      <th>SibSp</th>\n",
       "      <th>Parch</th>\n",
       "      <th>Ticket</th>\n",
       "      <th>Fare</th>\n",
       "      <th>Sex_female</th>\n",
       "      <th>Sex_male</th>\n",
       "      <th>Cabin_No</th>\n",
       "      <th>Cabin_Yes</th>\n",
       "      <th>Embarked_C</th>\n",
       "      <th>Embarked_Q</th>\n",
       "      <th>Embarked_S</th>\n",
       "      <th>Pclass_1</th>\n",
       "      <th>Pclass_2</th>\n",
       "      <th>Pclass_3</th>\n",
       "    </tr>\n",
       "  </thead>\n",
       "  <tbody>\n",
       "    <tr>\n",
       "      <th>0</th>\n",
       "      <td>1</td>\n",
       "      <td>0</td>\n",
       "      <td>Braund, Mr. Owen Harris</td>\n",
       "      <td>22.0</td>\n",
       "      <td>1</td>\n",
       "      <td>0</td>\n",
       "      <td>A/5 21171</td>\n",
       "      <td>7.2500</td>\n",
       "      <td>0</td>\n",
       "      <td>1</td>\n",
       "      <td>1</td>\n",
       "      <td>0</td>\n",
       "      <td>0</td>\n",
       "      <td>0</td>\n",
       "      <td>1</td>\n",
       "      <td>0</td>\n",
       "      <td>0</td>\n",
       "      <td>1</td>\n",
       "    </tr>\n",
       "    <tr>\n",
       "      <th>1</th>\n",
       "      <td>2</td>\n",
       "      <td>1</td>\n",
       "      <td>Cumings, Mrs. John Bradley (Florence Briggs Th...</td>\n",
       "      <td>38.0</td>\n",
       "      <td>1</td>\n",
       "      <td>0</td>\n",
       "      <td>PC 17599</td>\n",
       "      <td>71.2833</td>\n",
       "      <td>1</td>\n",
       "      <td>0</td>\n",
       "      <td>0</td>\n",
       "      <td>1</td>\n",
       "      <td>1</td>\n",
       "      <td>0</td>\n",
       "      <td>0</td>\n",
       "      <td>1</td>\n",
       "      <td>0</td>\n",
       "      <td>0</td>\n",
       "    </tr>\n",
       "    <tr>\n",
       "      <th>2</th>\n",
       "      <td>3</td>\n",
       "      <td>1</td>\n",
       "      <td>Heikkinen, Miss. Laina</td>\n",
       "      <td>26.0</td>\n",
       "      <td>0</td>\n",
       "      <td>0</td>\n",
       "      <td>STON/O2. 3101282</td>\n",
       "      <td>7.9250</td>\n",
       "      <td>1</td>\n",
       "      <td>0</td>\n",
       "      <td>1</td>\n",
       "      <td>0</td>\n",
       "      <td>0</td>\n",
       "      <td>0</td>\n",
       "      <td>1</td>\n",
       "      <td>0</td>\n",
       "      <td>0</td>\n",
       "      <td>1</td>\n",
       "    </tr>\n",
       "    <tr>\n",
       "      <th>3</th>\n",
       "      <td>4</td>\n",
       "      <td>1</td>\n",
       "      <td>Futrelle, Mrs. Jacques Heath (Lily May Peel)</td>\n",
       "      <td>35.0</td>\n",
       "      <td>1</td>\n",
       "      <td>0</td>\n",
       "      <td>113803</td>\n",
       "      <td>53.1000</td>\n",
       "      <td>1</td>\n",
       "      <td>0</td>\n",
       "      <td>0</td>\n",
       "      <td>1</td>\n",
       "      <td>0</td>\n",
       "      <td>0</td>\n",
       "      <td>1</td>\n",
       "      <td>1</td>\n",
       "      <td>0</td>\n",
       "      <td>0</td>\n",
       "    </tr>\n",
       "    <tr>\n",
       "      <th>4</th>\n",
       "      <td>5</td>\n",
       "      <td>0</td>\n",
       "      <td>Allen, Mr. William Henry</td>\n",
       "      <td>35.0</td>\n",
       "      <td>0</td>\n",
       "      <td>0</td>\n",
       "      <td>373450</td>\n",
       "      <td>8.0500</td>\n",
       "      <td>0</td>\n",
       "      <td>1</td>\n",
       "      <td>1</td>\n",
       "      <td>0</td>\n",
       "      <td>0</td>\n",
       "      <td>0</td>\n",
       "      <td>1</td>\n",
       "      <td>0</td>\n",
       "      <td>0</td>\n",
       "      <td>1</td>\n",
       "    </tr>\n",
       "  </tbody>\n",
       "</table>\n",
       "</div>"
      ],
      "text/plain": [
       "   PassengerId  Survived                                               Name  \\\n",
       "0            1         0                            Braund, Mr. Owen Harris   \n",
       "1            2         1  Cumings, Mrs. John Bradley (Florence Briggs Th...   \n",
       "2            3         1                             Heikkinen, Miss. Laina   \n",
       "3            4         1       Futrelle, Mrs. Jacques Heath (Lily May Peel)   \n",
       "4            5         0                           Allen, Mr. William Henry   \n",
       "\n",
       "    Age  SibSp  Parch            Ticket     Fare  Sex_female  Sex_male  \\\n",
       "0  22.0      1      0         A/5 21171   7.2500           0         1   \n",
       "1  38.0      1      0          PC 17599  71.2833           1         0   \n",
       "2  26.0      0      0  STON/O2. 3101282   7.9250           1         0   \n",
       "3  35.0      1      0            113803  53.1000           1         0   \n",
       "4  35.0      0      0            373450   8.0500           0         1   \n",
       "\n",
       "   Cabin_No  Cabin_Yes  Embarked_C  Embarked_Q  Embarked_S  Pclass_1  \\\n",
       "0         1          0           0           0           1         0   \n",
       "1         0          1           1           0           0         1   \n",
       "2         1          0           0           0           1         0   \n",
       "3         0          1           0           0           1         1   \n",
       "4         1          0           0           0           1         0   \n",
       "\n",
       "   Pclass_2  Pclass_3  \n",
       "0         0         1  \n",
       "1         0         0  \n",
       "2         0         1  \n",
       "3         0         0  \n",
       "4         0         1  "
      ]
     },
     "execution_count": 6,
     "metadata": {},
     "output_type": "execute_result"
    }
   ],
   "source": [
    "def getdummiesfordata(data_train):\n",
    "    dummies_Sex = pd.get_dummies(data_train[\"Sex\"],prefix=\"Sex\")\n",
    "    dummies_Cabin = pd.get_dummies(data_train[\"Cabin\"],prefix=\"Cabin\")\n",
    "    dummies_Embarked = pd.get_dummies(data_train[\"Embarked\"], prefix= 'Embarked')\n",
    "    dummies_Pclass = pd.get_dummies(data_train[\"Pclass\"], prefix= 'Pclass')\n",
    "    \n",
    "    df = pd.concat([data_train,dummies_Sex,dummies_Cabin,dummies_Embarked,dummies_Pclass], axis=1).drop([\"Sex\",\"Embarked\",\"Pclass\",\"Cabin\"],axis=1)\n",
    "    return df\n",
    "df = getdummiesfordata(data_train)\n",
    "df.head()"
   ]
  },
  {
   "cell_type": "markdown",
   "metadata": {},
   "source": [
    "### 3. StandardScaler Fare and Age"
   ]
  },
  {
   "cell_type": "code",
   "execution_count": 7,
   "metadata": {
    "collapsed": true,
    "scrolled": false
   },
   "outputs": [],
   "source": [
    "import sklearn.preprocessing as preprocessing\n",
    "scaler = preprocessing.StandardScaler()\n",
    "df['Age_scaled'] = scaler.fit_transform(np.array(df['Age']).reshape(-1,1))\n",
    "df['Fare_scaled'] = scaler.fit_transform(np.array(df['Fare']).reshape(-1,1))\n",
    "#df = df.drop([\"Age\",\"Fare\"],axis=1)"
   ]
  },
  {
   "cell_type": "markdown",
   "metadata": {},
   "source": [
    "### 4. train model of clf"
   ]
  },
  {
   "cell_type": "code",
   "execution_count": 8,
   "metadata": {},
   "outputs": [
    {
     "data": {
      "text/plain": [
       "LogisticRegression(C=1.0, class_weight=None, dual=False, fit_intercept=True,\n",
       "          intercept_scaling=1, max_iter=100, multi_class='ovr', n_jobs=1,\n",
       "          penalty='l1', random_state=None, solver='liblinear', tol=1e-06,\n",
       "          verbose=0, warm_start=False)"
      ]
     },
     "execution_count": 8,
     "metadata": {},
     "output_type": "execute_result"
    }
   ],
   "source": [
    "from sklearn import linear_model\n",
    "\n",
    "# 用正则取出我们要的属性值\n",
    "train_df = df.filter(regex='Survived|Age_.*|SibSp|Parch|Fare_.*|Cabin_.*|Embarked_.*|Sex_.*|Pclass_.*')\n",
    "y = train_df[\"Survived\"]\n",
    "X = train_df.iloc[:,1:]\n",
    "clf = linear_model.LogisticRegression(C=1.0, penalty='l1', tol=1e-6)\n",
    "clf.fit(X,y)\n",
    "clf"
   ]
  },
  {
   "cell_type": "code",
   "execution_count": 9,
   "metadata": {
    "collapsed": true,
    "scrolled": false
   },
   "outputs": [],
   "source": [
    "data_test = pd.read_csv(\"test.csv\")\n",
    "\n",
    "data_test = chang_cabin(data_test)\n",
    "\n",
    "test_rfr = data_test[['Age','Fare', 'Parch', 'SibSp', 'Pclass']]\n",
    "test_rfr = test_rfr[test_rfr[\"Age\"].isnull()]\n",
    "test_rfr_X =  test_rfr.iloc[:,1:]\n",
    "data_test.loc[data_test[\"Age\"].isnull(),\"Age\"] =  rfr.predict(test_rfr_X)\n",
    "data_test = getdummiesfordata(data_test)\n",
    "\n",
    "## use df.describe() check whether any NaN existed\n",
    "data_test.loc[data_test[\"Fare\"].isnull(),\"Fare\"] = 0\n",
    "\n",
    "## just use scaler.transform not .fit (use model already trained)\n",
    "data_test['Age_scaled'] = scaler.transform(np.array(data_test['Age']).reshape(-1,1))\n",
    "data_test['Fare_scaled'] = scaler.transform(np.array(data_test['Fare']).reshape(-1,1))\n",
    "\n",
    "test_df = data_test.filter(regex='Survived|Age_.*|SibSp|Parch|Fare_.*|Cabin_.*|Embarked_.*|Sex_.*|Pclass_.*')\n",
    "predictions = clf.predict(test_df)\n",
    "results = pd.DataFrame({\"PassengerId\":data_test[\"PassengerId\"],\"Survived\":predictions})\n",
    "results.to_csv(\"logistic_regression_predictions.csv\", index=False)"
   ]
  },
  {
   "cell_type": "markdown",
   "metadata": {},
   "source": [
    "### 5. check coef"
   ]
  },
  {
   "cell_type": "code",
   "execution_count": 10,
   "metadata": {},
   "outputs": [
    {
     "data": {
      "text/html": [
       "<div>\n",
       "<style>\n",
       "    .dataframe thead tr:only-child th {\n",
       "        text-align: right;\n",
       "    }\n",
       "\n",
       "    .dataframe thead th {\n",
       "        text-align: left;\n",
       "    }\n",
       "\n",
       "    .dataframe tbody tr th {\n",
       "        vertical-align: top;\n",
       "    }\n",
       "</style>\n",
       "<table border=\"1\" class=\"dataframe\">\n",
       "  <thead>\n",
       "    <tr style=\"text-align: right;\">\n",
       "      <th></th>\n",
       "      <th>Features</th>\n",
       "      <th>coef</th>\n",
       "    </tr>\n",
       "  </thead>\n",
       "  <tbody>\n",
       "    <tr>\n",
       "      <th>2</th>\n",
       "      <td>Sex_female</td>\n",
       "      <td>1.956571</td>\n",
       "    </tr>\n",
       "    <tr>\n",
       "      <th>5</th>\n",
       "      <td>Cabin_Yes</td>\n",
       "      <td>0.902109</td>\n",
       "    </tr>\n",
       "    <tr>\n",
       "      <th>9</th>\n",
       "      <td>Pclass_1</td>\n",
       "      <td>0.341158</td>\n",
       "    </tr>\n",
       "    <tr>\n",
       "      <th>13</th>\n",
       "      <td>Fare_scaled</td>\n",
       "      <td>0.084435</td>\n",
       "    </tr>\n",
       "    <tr>\n",
       "      <th>4</th>\n",
       "      <td>Cabin_No</td>\n",
       "      <td>0.000000</td>\n",
       "    </tr>\n",
       "    <tr>\n",
       "      <th>6</th>\n",
       "      <td>Embarked_C</td>\n",
       "      <td>0.000000</td>\n",
       "    </tr>\n",
       "    <tr>\n",
       "      <th>7</th>\n",
       "      <td>Embarked_Q</td>\n",
       "      <td>0.000000</td>\n",
       "    </tr>\n",
       "    <tr>\n",
       "      <th>10</th>\n",
       "      <td>Pclass_2</td>\n",
       "      <td>0.000000</td>\n",
       "    </tr>\n",
       "    <tr>\n",
       "      <th>1</th>\n",
       "      <td>Parch</td>\n",
       "      <td>-0.104916</td>\n",
       "    </tr>\n",
       "    <tr>\n",
       "      <th>0</th>\n",
       "      <td>SibSp</td>\n",
       "      <td>-0.344236</td>\n",
       "    </tr>\n",
       "    <tr>\n",
       "      <th>8</th>\n",
       "      <td>Embarked_S</td>\n",
       "      <td>-0.417264</td>\n",
       "    </tr>\n",
       "    <tr>\n",
       "      <th>12</th>\n",
       "      <td>Age_scaled</td>\n",
       "      <td>-0.523767</td>\n",
       "    </tr>\n",
       "    <tr>\n",
       "      <th>3</th>\n",
       "      <td>Sex_male</td>\n",
       "      <td>-0.677420</td>\n",
       "    </tr>\n",
       "    <tr>\n",
       "      <th>11</th>\n",
       "      <td>Pclass_3</td>\n",
       "      <td>-1.194131</td>\n",
       "    </tr>\n",
       "  </tbody>\n",
       "</table>\n",
       "</div>"
      ],
      "text/plain": [
       "       Features      coef\n",
       "2    Sex_female  1.956571\n",
       "5     Cabin_Yes  0.902109\n",
       "9      Pclass_1  0.341158\n",
       "13  Fare_scaled  0.084435\n",
       "4      Cabin_No  0.000000\n",
       "6    Embarked_C  0.000000\n",
       "7    Embarked_Q  0.000000\n",
       "10     Pclass_2  0.000000\n",
       "1         Parch -0.104916\n",
       "0         SibSp -0.344236\n",
       "8    Embarked_S -0.417264\n",
       "12   Age_scaled -0.523767\n",
       "3      Sex_male -0.677420\n",
       "11     Pclass_3 -1.194131"
      ]
     },
     "execution_count": 10,
     "metadata": {},
     "output_type": "execute_result"
    }
   ],
   "source": [
    "df_coef = pd.DataFrame({\"Features\":test_df.columns,\"coef\":list(clf.coef_.T)}) ##coef_ need .T \n",
    "df_coef[\"coef\"] = df_coef[\"coef\"].astype(\"float\")\n",
    "df_coef = df_coef.sort_values(\"coef\",ascending=False)\n",
    "df_coef"
   ]
  },
  {
   "cell_type": "markdown",
   "metadata": {},
   "source": [
    "### 6. using cross_validation to get score using training data"
   ]
  },
  {
   "cell_type": "code",
   "execution_count": 11,
   "metadata": {},
   "outputs": [
    {
     "name": "stderr",
     "output_type": "stream",
     "text": [
      "/Users/jzz0026/anaconda3/lib/python3.6/site-packages/sklearn/cross_validation.py:41: DeprecationWarning: This module was deprecated in version 0.18 in favor of the model_selection module into which all the refactored classes and functions are moved. Also note that the interface of the new CV iterators are different from that of this module. This module will be removed in 0.20.\n",
      "  \"This module will be removed in 0.20.\", DeprecationWarning)\n"
     ]
    },
    {
     "data": {
      "text/plain": [
       "0.80357558922003691"
      ]
     },
     "execution_count": 11,
     "metadata": {},
     "output_type": "execute_result"
    }
   ],
   "source": [
    "from sklearn import cross_validation\n",
    "from sklearn.model_selection import GridSearchCV\n",
    "\n",
    "train_df = df.filter(regex='Survived|Age_.*|SibSp|Parch|Fare_.*|Cabin_.*|Embarked_.*|Sex_.*|Pclass_.*')\n",
    "y = train_df[\"Survived\"]\n",
    "X = train_df.iloc[:,1:]\n",
    "clf = linear_model.LogisticRegression(C=1, penalty='l1', tol=1e-6)\n",
    "clf.fit(X,y)\n",
    "cv_score = cross_validation.cross_val_score(clf,X,y,cv=5)\n",
    "mean_cv_score = np.mean(cv_score)\n",
    "mean_cv_score"
   ]
  },
  {
   "cell_type": "markdown",
   "metadata": {},
   "source": [
    "#### Grid selection of values for logicregression"
   ]
  },
  {
   "cell_type": "code",
   "execution_count": 12,
   "metadata": {},
   "outputs": [
    {
     "name": "stdout",
     "output_type": "stream",
     "text": [
      "Grid best parameters (accuracy): {'C': 1}\n",
      "Grid best score (accuracy): 0.803591470258\n",
      "Grid best parameters (AUC): {'C': 0.1}\n",
      "Grid best score (AUC): 0.854611029591\n"
     ]
    },
    {
     "name": "stderr",
     "output_type": "stream",
     "text": [
      "/Users/jzz0026/anaconda3/lib/python3.6/site-packages/sklearn/metrics/classification.py:1135: UndefinedMetricWarning: F-score is ill-defined and being set to 0.0 due to no predicted samples.\n",
      "  'precision', 'predicted', average, warn_for)\n",
      "/Users/jzz0026/anaconda3/lib/python3.6/site-packages/sklearn/metrics/classification.py:1135: UndefinedMetricWarning: F-score is ill-defined and being set to 0.0 due to no predicted samples.\n",
      "  'precision', 'predicted', average, warn_for)\n",
      "/Users/jzz0026/anaconda3/lib/python3.6/site-packages/sklearn/metrics/classification.py:1135: UndefinedMetricWarning: F-score is ill-defined and being set to 0.0 due to no predicted samples.\n",
      "  'precision', 'predicted', average, warn_for)\n",
      "/Users/jzz0026/anaconda3/lib/python3.6/site-packages/sklearn/metrics/classification.py:1135: UndefinedMetricWarning: F-score is ill-defined and being set to 0.0 due to no predicted samples.\n",
      "  'precision', 'predicted', average, warn_for)\n",
      "/Users/jzz0026/anaconda3/lib/python3.6/site-packages/sklearn/metrics/classification.py:1135: UndefinedMetricWarning: F-score is ill-defined and being set to 0.0 due to no predicted samples.\n",
      "  'precision', 'predicted', average, warn_for)\n",
      "/Users/jzz0026/anaconda3/lib/python3.6/site-packages/sklearn/metrics/classification.py:1135: UndefinedMetricWarning: F-score is ill-defined and being set to 0.0 due to no predicted samples.\n",
      "  'precision', 'predicted', average, warn_for)\n",
      "/Users/jzz0026/anaconda3/lib/python3.6/site-packages/sklearn/metrics/classification.py:1135: UndefinedMetricWarning: F-score is ill-defined and being set to 0.0 due to no predicted samples.\n",
      "  'precision', 'predicted', average, warn_for)\n",
      "/Users/jzz0026/anaconda3/lib/python3.6/site-packages/sklearn/metrics/classification.py:1135: UndefinedMetricWarning: F-score is ill-defined and being set to 0.0 due to no predicted samples.\n",
      "  'precision', 'predicted', average, warn_for)\n",
      "/Users/jzz0026/anaconda3/lib/python3.6/site-packages/sklearn/metrics/classification.py:1135: UndefinedMetricWarning: F-score is ill-defined and being set to 0.0 due to no predicted samples.\n",
      "  'precision', 'predicted', average, warn_for)\n"
     ]
    },
    {
     "name": "stdout",
     "output_type": "stream",
     "text": [
      "Grid best parameters (f1): {'C': 1}\n",
      "Grid best score (f1): 0.733194056987\n"
     ]
    }
   ],
   "source": [
    "clf = linear_model.LogisticRegression(penalty='l1', tol=1e-6)\n",
    "grid_values = {'C': [0.001,0.01,0.05,0.1,1,10,100]}\n",
    "\n",
    "## use accuracy to select C\n",
    "grid_clf_acc = GridSearchCV(clf,grid_values,cv=5)\n",
    "grid_clf_acc.fit(X,y)\n",
    "print(\"Grid best parameters (accuracy):\",grid_clf_acc.best_params_)\n",
    "print(\"Grid best score (accuracy):\",grid_clf_acc.best_score_)\n",
    "\n",
    "\n",
    "## use AUC to select C\n",
    "grid_clf_auc = GridSearchCV(clf,grid_values,scoring=\"roc_auc\",cv=5)\n",
    "grid_clf_auc.fit(X,y)\n",
    "print(\"Grid best parameters (AUC):\",grid_clf_auc.best_params_)\n",
    "print(\"Grid best score (AUC):\",grid_clf_auc.best_score_)\n",
    "\n",
    "## use AUC to select C\n",
    "grid_clf_f1 = GridSearchCV(clf,grid_values,scoring=\"f1\",cv=5)\n",
    "grid_clf_f1.fit(X,y)\n",
    "print(\"Grid best parameters (f1):\",grid_clf_f1.best_params_)\n",
    "print(\"Grid best score (f1):\",grid_clf_f1.best_score_)\n"
   ]
  },
  {
   "cell_type": "markdown",
   "metadata": {},
   "source": [
    "#### Grid selection of values for logicregression C and penalty"
   ]
  },
  {
   "cell_type": "code",
   "execution_count": 13,
   "metadata": {},
   "outputs": [
    {
     "name": "stdout",
     "output_type": "stream",
     "text": [
      "Grid best parameters (accuracy): {'C': 1, 'penalty': 'l1', 'tol': 1e-05}\n",
      "Grid best score (accuracy): 0.803591470258\n"
     ]
    }
   ],
   "source": [
    "clf = linear_model.LogisticRegression()\n",
    "grid_values = {'C': [0.001,0.01,0.05,0.1,1,10,100],'penalty':['l1','l2'],'tol':[1e-4,1e-5,1e-6,1e-7,1e-8,1e-9]}\n",
    "\n",
    "## use accuracy to select C\n",
    "grid_clf_acc = GridSearchCV(clf,grid_values,cv=5)\n",
    "grid_clf_acc.fit(X,y)\n",
    "print(\"Grid best parameters (accuracy):\",grid_clf_acc.best_params_)\n",
    "print(\"Grid best score (accuracy):\",grid_clf_acc.best_score_)"
   ]
  },
  {
   "cell_type": "markdown",
   "metadata": {},
   "source": [
    "#### Grid selection of values for SVC (gamma and kernel)"
   ]
  },
  {
   "cell_type": "code",
   "execution_count": 14,
   "metadata": {},
   "outputs": [
    {
     "name": "stdout",
     "output_type": "stream",
     "text": [
      "Grid best parameters (accuracy): {'gamma': 0.1, 'kernel': 'rbf'}\n",
      "Grid best score (accuracy): 0.827160493827\n",
      "Grid best parameters (accuracy): {'degree': 3}\n",
      "Grid best score (accuracy): 0.817059483726\n"
     ]
    }
   ],
   "source": [
    "from sklearn.svm import SVC\n",
    "clf = SVC()\n",
    "grid_values = {'gamma': [0.001,0.01,0.05,0.1,1,10,100],'kernel':['rbf','linear']}\n",
    "grid_clf_svc1 = GridSearchCV(clf,grid_values,cv=5)\n",
    "grid_clf_svc1.fit(X,y)\n",
    "print(\"Grid best parameters (accuracy):\",grid_clf_svc1.best_params_)\n",
    "print(\"Grid best score (accuracy):\",grid_clf_svc1.best_score_)\n",
    "\n",
    "## select different degree\n",
    "clf = SVC(kernel='poly')\n",
    "grid_values = {'degree': [1,2,3,4,5,6,7,8,9,10]}\n",
    "grid_clf_svc2 = GridSearchCV(clf,grid_values,cv=5)\n",
    "grid_clf_svc2.fit(X,y)\n",
    "print(\"Grid best parameters (accuracy):\",grid_clf_svc2.best_params_)\n",
    "print(\"Grid best score (accuracy):\",grid_clf_svc2.best_score_)"
   ]
  },
  {
   "cell_type": "markdown",
   "metadata": {},
   "source": [
    "#### Grid selection of values for Decision Tree (max_depth and min_samples_leaf)"
   ]
  },
  {
   "cell_type": "code",
   "execution_count": 15,
   "metadata": {},
   "outputs": [
    {
     "name": "stdout",
     "output_type": "stream",
     "text": [
      "Grid best parameters (accuracy):  {'max_depth': 6, 'min_samples_leaf': 6}\n",
      "Grid best score (accuracy):  0.822671156004\n"
     ]
    }
   ],
   "source": [
    "from sklearn.tree import DecisionTreeClassifier\n",
    "\n",
    "clf = DecisionTreeClassifier()\n",
    "grid_values = {'max_depth':[1,2,3,4,5,6,7,8,9,10,11,15,16,17,18,19,20],'min_samples_leaf':[1,2,3,4,5,6,7,8,9,10,11,15,16,17,18,19,20]}\n",
    "grid_clf_dtree = GridSearchCV(clf,grid_values,cv=5)\n",
    "grid_clf_dtree.fit(X,y)\n",
    "\n",
    "print(\"Grid best parameters (accuracy): \",grid_clf_dtree.best_params_)\n",
    "print(\"Grid best score (accuracy): \",grid_clf_dtree.best_score_)\n",
    "\n"
   ]
  },
  {
   "cell_type": "markdown",
   "metadata": {},
   "source": [
    "#### Grid selection of values for KNN (n_neighbors)"
   ]
  },
  {
   "cell_type": "code",
   "execution_count": 16,
   "metadata": {},
   "outputs": [
    {
     "name": "stdout",
     "output_type": "stream",
     "text": [
      "Grid best parameters (accuracy):  {'n_neighbors': 8}\n",
      "Grid best score (accuracy):  0.818181818182\n"
     ]
    }
   ],
   "source": [
    "from sklearn.neighbors import KNeighborsClassifier\n",
    "clf = KNeighborsClassifier()\n",
    "grid_values = {'n_neighbors':[1,2,3,4,5,6,7,8,9,10,11,15,16,17,18,19,20]}\n",
    "grid_clf_knn = GridSearchCV(clf,grid_values,cv=5)\n",
    "grid_clf_knn.fit(X,y)\n",
    "\n",
    "print(\"Grid best parameters (accuracy): \",grid_clf_knn.best_params_)\n",
    "print(\"Grid best score (accuracy): \",grid_clf_knn.best_score_)"
   ]
  },
  {
   "cell_type": "markdown",
   "metadata": {},
   "source": [
    "### 7. check bad cases"
   ]
  },
  {
   "cell_type": "code",
   "execution_count": 17,
   "metadata": {
    "scrolled": false
   },
   "outputs": [
    {
     "data": {
      "text/html": [
       "<div>\n",
       "<style>\n",
       "    .dataframe thead tr:only-child th {\n",
       "        text-align: right;\n",
       "    }\n",
       "\n",
       "    .dataframe thead th {\n",
       "        text-align: left;\n",
       "    }\n",
       "\n",
       "    .dataframe tbody tr th {\n",
       "        vertical-align: top;\n",
       "    }\n",
       "</style>\n",
       "<table border=\"1\" class=\"dataframe\">\n",
       "  <thead>\n",
       "    <tr style=\"text-align: right;\">\n",
       "      <th></th>\n",
       "      <th>Survived</th>\n",
       "      <th>Pclass</th>\n",
       "      <th>Name</th>\n",
       "      <th>Sex</th>\n",
       "      <th>Age</th>\n",
       "      <th>SibSp</th>\n",
       "      <th>Parch</th>\n",
       "      <th>Ticket</th>\n",
       "      <th>Fare</th>\n",
       "      <th>Cabin</th>\n",
       "      <th>Embarked</th>\n",
       "    </tr>\n",
       "    <tr>\n",
       "      <th>PassengerId</th>\n",
       "      <th></th>\n",
       "      <th></th>\n",
       "      <th></th>\n",
       "      <th></th>\n",
       "      <th></th>\n",
       "      <th></th>\n",
       "      <th></th>\n",
       "      <th></th>\n",
       "      <th></th>\n",
       "      <th></th>\n",
       "      <th></th>\n",
       "    </tr>\n",
       "  </thead>\n",
       "  <tbody>\n",
       "    <tr>\n",
       "      <th>299</th>\n",
       "      <td>1</td>\n",
       "      <td>1</td>\n",
       "      <td>Saalfeld, Mr. Adolphe</td>\n",
       "      <td>male</td>\n",
       "      <td>NaN</td>\n",
       "      <td>0</td>\n",
       "      <td>0</td>\n",
       "      <td>19988</td>\n",
       "      <td>30.5000</td>\n",
       "      <td>C106</td>\n",
       "      <td>S</td>\n",
       "    </tr>\n",
       "    <tr>\n",
       "      <th>15</th>\n",
       "      <td>0</td>\n",
       "      <td>3</td>\n",
       "      <td>Vestrom, Miss. Hulda Amanda Adolfina</td>\n",
       "      <td>female</td>\n",
       "      <td>14.00</td>\n",
       "      <td>0</td>\n",
       "      <td>0</td>\n",
       "      <td>350406</td>\n",
       "      <td>7.8542</td>\n",
       "      <td>NaN</td>\n",
       "      <td>S</td>\n",
       "    </tr>\n",
       "    <tr>\n",
       "      <th>804</th>\n",
       "      <td>1</td>\n",
       "      <td>3</td>\n",
       "      <td>Thomas, Master. Assad Alexander</td>\n",
       "      <td>male</td>\n",
       "      <td>0.42</td>\n",
       "      <td>0</td>\n",
       "      <td>1</td>\n",
       "      <td>2625</td>\n",
       "      <td>8.5167</td>\n",
       "      <td>NaN</td>\n",
       "      <td>C</td>\n",
       "    </tr>\n",
       "    <tr>\n",
       "      <th>475</th>\n",
       "      <td>0</td>\n",
       "      <td>3</td>\n",
       "      <td>Strandberg, Miss. Ida Sofia</td>\n",
       "      <td>female</td>\n",
       "      <td>22.00</td>\n",
       "      <td>0</td>\n",
       "      <td>0</td>\n",
       "      <td>7553</td>\n",
       "      <td>9.8375</td>\n",
       "      <td>NaN</td>\n",
       "      <td>S</td>\n",
       "    </tr>\n",
       "    <tr>\n",
       "      <th>643</th>\n",
       "      <td>0</td>\n",
       "      <td>3</td>\n",
       "      <td>Skoog, Miss. Margit Elizabeth</td>\n",
       "      <td>female</td>\n",
       "      <td>2.00</td>\n",
       "      <td>3</td>\n",
       "      <td>2</td>\n",
       "      <td>347088</td>\n",
       "      <td>27.9000</td>\n",
       "      <td>NaN</td>\n",
       "      <td>S</td>\n",
       "    </tr>\n",
       "  </tbody>\n",
       "</table>\n",
       "</div>"
      ],
      "text/plain": [
       "             Survived  Pclass                                  Name     Sex  \\\n",
       "PassengerId                                                                   \n",
       "299                 1       1                 Saalfeld, Mr. Adolphe    male   \n",
       "15                  0       3  Vestrom, Miss. Hulda Amanda Adolfina  female   \n",
       "804                 1       3       Thomas, Master. Assad Alexander    male   \n",
       "475                 0       3           Strandberg, Miss. Ida Sofia  female   \n",
       "643                 0       3         Skoog, Miss. Margit Elizabeth  female   \n",
       "\n",
       "               Age  SibSp  Parch  Ticket     Fare Cabin Embarked  \n",
       "PassengerId                                                       \n",
       "299            NaN      0      0   19988  30.5000  C106        S  \n",
       "15           14.00      0      0  350406   7.8542   NaN        S  \n",
       "804           0.42      0      1    2625   8.5167   NaN        C  \n",
       "475          22.00      0      0    7553   9.8375   NaN        S  \n",
       "643           2.00      3      2  347088  27.9000   NaN        S  "
      ]
     },
     "execution_count": 17,
     "metadata": {},
     "output_type": "execute_result"
    }
   ],
   "source": [
    "from sklearn.metrics import confusion_matrix\n",
    "\n",
    "## split train and cv\n",
    "split_train, split_cv = cross_validation.train_test_split(df,test_size=0.3,random_state=0)\n",
    "\n",
    "## left Passenger Id of cv for late track back\n",
    "PassengerId_cv = split_cv[\"PassengerId\"]\n",
    "\n",
    "## filter train_df and cv_df\n",
    "train_df = split_train.filter(regex='Survived|Age_.*|SibSp|Parch|Fare_.*|Cabin_.*|Embarked_.*|Sex_.*|Pclass_.*')\n",
    "cv_df = split_cv.filter(regex='Survived|Age_.*|SibSp|Parch|Fare_.*|Cabin_.*|Embarked_.*|Sex_.*|Pclass_.*')\n",
    "\n",
    "## set and fit model of clf\n",
    "clf = linear_model.LogisticRegression(C=1.0, penalty='l1', tol=1e-6)\n",
    "clf.fit(train_df.iloc[:,1:],train_df.iloc[:,0]) ##train_df.iloc[:,0] is y, don't set train_df.iloc[:,1]\n",
    "\n",
    "##predict and score\n",
    "predictions = clf.predict(cv_df.iloc[:,1:])\n",
    "#clf.score(cv_df.iloc[:,1:],cv_df.iloc[:,0])\n",
    "#confusion_matrix(cv_df.iloc[:,0],predictions)\n",
    "\n",
    "origin_data_train = pd.read_csv(\"Train.csv\")\n",
    "\n",
    "## check bad cases\n",
    "origin_data_train_cv = origin_data_train.set_index(\"PassengerId\").loc[PassengerId_cv]\n",
    "#origin_data_train_cv = origin_data_train[origin_data_train[\"PassengerId\"].isin(list(PassengerId_cv))] ##用isin表格重新按照index排序了\n",
    "bad_cases = origin_data_train_cv[origin_data_train_cv[\"Survived\"] != predictions]\n",
    "bad_cases.head()\n"
   ]
  },
  {
   "cell_type": "markdown",
   "metadata": {},
   "source": [
    "### plot bad cases"
   ]
  },
  {
   "cell_type": "code",
   "execution_count": 18,
   "metadata": {},
   "outputs": [
    {
     "data": {
      "text/plain": [
       "(array([ 22.,   0.,   0.,   0.,   0.,   0.,   0.,   0.,   0.,  28.]),\n",
       " array([ 0. ,  0.1,  0.2,  0.3,  0.4,  0.5,  0.6,  0.7,  0.8,  0.9,  1. ]),\n",
       " <a list of 10 Patch objects>)"
      ]
     },
     "execution_count": 18,
     "metadata": {},
     "output_type": "execute_result"
    },
    {
     "data": {
      "image/png": "[encoded data removed]",
      "text/plain": [
       "<matplotlib.figure.Figure at 0x11b124c18>"
      ]
     },
     "metadata": {},
     "output_type": "display_data"
    }
   ],
   "source": [
    "plt.figure(figsize=(10,10))\n",
    "ax1 = plt.subplot(2,2,1)\n",
    "ax1.hist(bad_cases[\"Pclass\"])\n",
    "ax2 = plt.subplot(2,2,2)\n",
    "ax2.hist(bad_cases[\"Survived\"])"
   ]
  },
  {
   "cell_type": "markdown",
   "metadata": {},
   "source": [
    "### 8. do more feature engineering"
   ]
  },
  {
   "cell_type": "code",
   "execution_count": 19,
   "metadata": {
    "scrolled": false
   },
   "outputs": [
    {
     "data": {
      "text/plain": [
       "Index(['Survived', 'SibSp', 'Parch', 'Sex_female', 'Sex_male', 'Cabin_No',\n",
       "       'Cabin_Yes', 'Embarked_C', 'Embarked_Q', 'Embarked_S', 'Pclass_1',\n",
       "       'Pclass_2', 'Pclass_3', 'Age_scaled', 'Fare_scaled', 'Title_ Capt',\n",
       "       'Title_ Col', 'Title_ Don', 'Title_ Dr', 'Title_ Jonkheer',\n",
       "       'Title_ Lady', 'Title_ Major', 'Title_ Master', 'Title_ Miss',\n",
       "       'Title_ Mlle', 'Title_ Mme', 'Title_ Mr', 'Title_ Mrs', 'Title_ Ms',\n",
       "       'Title_ Rev', 'Title_ Sir', 'Title_ the Countess'],\n",
       "      dtype='object')"
      ]
     },
     "execution_count": 19,
     "metadata": {},
     "output_type": "execute_result"
    }
   ],
   "source": [
    "dfmf =  df.copy()\n",
    "dfmf[\"Title\"] = dfmf[\"Name\"].str.split(\",\",expand=True)[1].str.split(\".\",expand=True)[0]\n",
    "df_title = pd.get_dummies(dfmf[\"Title\"],prefix=\"Title\")\n",
    "dfmf = pd.concat([dfmf,df_title],axis=1)\n",
    "\n",
    "\n",
    "dfmfDATA = dfmf.filter(regex='Survived|Age_.*|SibSp|Parch|Fare_.*|Cabin_.*|Embarked_.*|Sex_.*|Pclass_.*|Title_.*|kid|old')\n",
    "dfmfDATA.columns"
   ]
  },
  {
   "cell_type": "code",
   "execution_count": 20,
   "metadata": {},
   "outputs": [
    {
     "name": "stdout",
     "output_type": "stream",
     "text": [
      "SVC results:\n",
      "Grid best parameters (accuracy): {'gamma': 0.1, 'kernel': 'rbf'}\n",
      "Grid best score (accuracy): 0.837261503928\n",
      "lasso classifier results:\n",
      "Grid best parameters (accuracy): {'C': 1}\n",
      "Grid best score (accuracy): 0.829405162738\n"
     ]
    }
   ],
   "source": [
    "y = dfmfDATA.iloc[:,0]\n",
    "X = dfmfDATA.iloc[:,1:]\n",
    "\n",
    "\n",
    "clf = SVC()\n",
    "grid_values = {'gamma': [0.001,0.01,0.05,0.1,1,10,100],'kernel':['rbf','linear']}\n",
    "grid_clf_svc1 = GridSearchCV(clf,grid_values,cv=5)\n",
    "grid_clf_svc1.fit(X,y)\n",
    "print(\"SVC results:\")\n",
    "print(\"Grid best parameters (accuracy):\",grid_clf_svc1.best_params_)\n",
    "print(\"Grid best score (accuracy):\",grid_clf_svc1.best_score_)\n",
    "\n",
    "clf = linear_model.LogisticRegression(penalty='l1')\n",
    "grid_values = {'C': [0.001,0.01,0.05,0.1,1,10,100]}\n",
    "grid_clf_acc = GridSearchCV(clf,grid_values,cv=5)\n",
    "grid_clf_acc.fit(X,y)\n",
    "print(\"lasso classifier results:\")\n",
    "print(\"Grid best parameters (accuracy):\",grid_clf_acc.best_params_)\n",
    "print(\"Grid best score (accuracy):\",grid_clf_acc.best_score_)"
   ]
  },
  {
   "cell_type": "code",
   "execution_count": 21,
   "metadata": {},
   "outputs": [
    {
     "name": "stdout",
     "output_type": "stream",
     "text": [
      "\n",
      "========================\n",
      "Plotting Learning Curves\n",
      "========================\n",
      "\n",
      "On the left side the learning curve of a naive Bayes classifier is shown for\n",
      "the digits dataset. Note that the training score and the cross-validation score\n",
      "are both not very good at the end. However, the shape of the curve can be found\n",
      "in more complex datasets very often: the training score is very high at the\n",
      "beginning and decreases and the cross-validation score is very low at the\n",
      "beginning and increases. On the right side we see the learning curve of an SVM\n",
      "with RBF kernel. We can see clearly that the training score is still around\n",
      "the maximum and the validation score could be increased with more training\n",
      "samples.\n",
      "\n"
     ]
    },
    {
     "data": {
      "text/plain": [
       "<module 'matplotlib.pyplot' from '/Users/jzz0026/anaconda3/lib/python3.6/site-packages/matplotlib/pyplot.py'>"
      ]
     },
     "execution_count": 21,
     "metadata": {},
     "output_type": "execute_result"
    },
    {
     "data": {
      "text/plain": [
       "<matplotlib.figure.Figure at 0x119ec0080>"
      ]
     },
     "metadata": {},
     "output_type": "display_data"
    },
    {
     "data": {
      "image/png": "[encoded data removed]",
      "text/plain": [
       "<matplotlib.figure.Figure at 0x11999a978>"
      ]
     },
     "metadata": {},
     "output_type": "display_data"
    }
   ],
   "source": [
    "%run \"/Users/jzz0026/OneDrive - Auburn University/supercomupter setting/python_programming/Machine_learning/plot_learning_curve.py\"\n",
    "\n",
    "plot_learning_curve(SVC(gamma=0.1,kernel='rbf'),title=\"SVC classifer\", X=X, y=y,n_jobs=1, cv=5, train_sizes=np.linspace(.1, 1.0, 5))"
   ]
  },
  {
   "cell_type": "markdown",
   "metadata": {},
   "source": [
    "### 9. Use all train data to build model"
   ]
  },
  {
   "cell_type": "code",
   "execution_count": 22,
   "metadata": {
    "collapsed": true,
    "scrolled": false
   },
   "outputs": [],
   "source": [
    "\n",
    "data_test[\"Title\"] = data_test[\"Name\"].str.split(\",\",expand=True)[1].str.split(\".\",expand=True)[0]\n",
    "data_test\n",
    "df_title = pd.get_dummies(data_test[\"Title\"],prefix=\"Title\")\n",
    "test_df = pd.concat([data_test,df_title],axis=1)\n",
    "\n",
    "\n",
    "test_df_final = test_df.filter(regex='Survived|Age_.*|SibSp|Parch|Fare_.*|Cabin_.*|Embarked_.*|Sex_.*|Pclass_.*|Title_.*')\n",
    "test_df_final =test_df_final.loc[:,X.columns].fillna(0)"
   ]
  },
  {
   "cell_type": "code",
   "execution_count": 23,
   "metadata": {},
   "outputs": [
    {
     "data": {
      "text/plain": [
       "Index(['SibSp', 'Parch', 'Sex_female', 'Sex_male', 'Cabin_No', 'Cabin_Yes',\n",
       "       'Embarked_C', 'Embarked_Q', 'Embarked_S', 'Pclass_1', 'Pclass_2',\n",
       "       'Pclass_3', 'Age_scaled', 'Fare_scaled', 'Title_ Capt', 'Title_ Col',\n",
       "       'Title_ Don', 'Title_ Dr', 'Title_ Jonkheer', 'Title_ Lady',\n",
       "       'Title_ Major', 'Title_ Master', 'Title_ Miss', 'Title_ Mlle',\n",
       "       'Title_ Mme', 'Title_ Mr', 'Title_ Mrs', 'Title_ Ms', 'Title_ Rev',\n",
       "       'Title_ Sir', 'Title_ the Countess'],\n",
       "      dtype='object')"
      ]
     },
     "execution_count": 23,
     "metadata": {},
     "output_type": "execute_result"
    }
   ],
   "source": [
    "X.columns"
   ]
  },
  {
   "cell_type": "code",
   "execution_count": 24,
   "metadata": {
    "collapsed": true
   },
   "outputs": [],
   "source": [
    "clf = SVC(gamma=0.1,kernel='rbf')\n",
    "clf.fit(X,y)\n",
    "predictions = clf.predict(test_df_final)\n",
    "results = pd.DataFrame({\"PassengerId\":data_test[\"PassengerId\"],\"Survived\":predictions})\n",
    "results.to_csv(\"SVC_rbf_predictions_more_features.csv\", index=False)"
   ]
  },
  {
   "cell_type": "markdown",
   "metadata": {
    "collapsed": true
   },
   "source": [
    "### 10. model ensemble\n",
    "### bagging + SVC"
   ]
  },
  {
   "cell_type": "code",
   "execution_count": 67,
   "metadata": {},
   "outputs": [
    {
     "data": {
      "text/plain": [
       "0.83389450056116721"
      ]
     },
     "execution_count": 67,
     "metadata": {},
     "output_type": "execute_result"
    }
   ],
   "source": [
    "from sklearn.ensemble import BaggingClassifier\n",
    "clf = SVC(gamma=0.1,kernel='rbf')\n",
    "bagging_clf = BaggingClassifier(clf, n_estimators=500, max_samples=0.5, max_features=1.0, bootstrap=True, bootstrap_features=False, oob_score=True,n_jobs=-1)\n",
    "bagging_clf.fit(X,y)\n",
    "bagging_clf.predict(test_df_final)\n",
    "#results = pd.DataFrame({\"PassengerId\":data_test[\"PassengerId\"],\"Survived\":predictions})\n",
    "#results.to_csv(\"SVC_rbf_Bagging_predictions_more_features.csv\", index=False)\n",
    "bagging_clf.oob_score_"
   ]
  },
  {
   "cell_type": "markdown",
   "metadata": {},
   "source": [
    "### RandomForestClassifier"
   ]
  },
  {
   "cell_type": "code",
   "execution_count": 81,
   "metadata": {},
   "outputs": [
    {
     "name": "stdout",
     "output_type": "stream",
     "text": [
      "Grid best parameters (f1): {'max_depth': 10, 'n_estimators': 10}\n",
      "Grid best score (f1): 0.835016835017\n"
     ]
    }
   ],
   "source": [
    "from sklearn.ensemble import RandomForestClassifier\n",
    "\n",
    "clf = RandomForestClassifier(n_estimators=1000)\n",
    "grid_values={'max_depth':[8,9,10,11,12],'n_estimators':[10,50,100,200]}\n",
    "grid_clf_rfc = GridSearchCV(clf,grid_values,cv=5)\n",
    "grid_clf_rfc.fit(X,y)\n",
    "print(\"Grid best parameters (f1):\",grid_clf_rfc.best_params_)\n",
    "print(\"Grid best score (f1):\",grid_clf_rfc.best_score_)\n"
   ]
  },
  {
   "cell_type": "markdown",
   "metadata": {},
   "source": [
    "### VotingClassifier"
   ]
  },
  {
   "cell_type": "code",
   "execution_count": 93,
   "metadata": {},
   "outputs": [
    {
     "data": {
      "text/html": [
       "<div>\n",
       "<style>\n",
       "    .dataframe thead tr:only-child th {\n",
       "        text-align: right;\n",
       "    }\n",
       "\n",
       "    .dataframe thead th {\n",
       "        text-align: left;\n",
       "    }\n",
       "\n",
       "    .dataframe tbody tr th {\n",
       "        vertical-align: top;\n",
       "    }\n",
       "</style>\n",
       "<table border=\"1\" class=\"dataframe\">\n",
       "  <thead>\n",
       "    <tr style=\"text-align: right;\">\n",
       "      <th></th>\n",
       "      <th>PassengerId</th>\n",
       "      <th>Survived</th>\n",
       "    </tr>\n",
       "  </thead>\n",
       "  <tbody>\n",
       "    <tr>\n",
       "      <th>0</th>\n",
       "      <td>892</td>\n",
       "      <td>0</td>\n",
       "    </tr>\n",
       "    <tr>\n",
       "      <th>1</th>\n",
       "      <td>893</td>\n",
       "      <td>1</td>\n",
       "    </tr>\n",
       "    <tr>\n",
       "      <th>2</th>\n",
       "      <td>894</td>\n",
       "      <td>0</td>\n",
       "    </tr>\n",
       "    <tr>\n",
       "      <th>3</th>\n",
       "      <td>895</td>\n",
       "      <td>0</td>\n",
       "    </tr>\n",
       "    <tr>\n",
       "      <th>4</th>\n",
       "      <td>896</td>\n",
       "      <td>1</td>\n",
       "    </tr>\n",
       "    <tr>\n",
       "      <th>5</th>\n",
       "      <td>897</td>\n",
       "      <td>0</td>\n",
       "    </tr>\n",
       "    <tr>\n",
       "      <th>6</th>\n",
       "      <td>898</td>\n",
       "      <td>1</td>\n",
       "    </tr>\n",
       "    <tr>\n",
       "      <th>7</th>\n",
       "      <td>899</td>\n",
       "      <td>0</td>\n",
       "    </tr>\n",
       "    <tr>\n",
       "      <th>8</th>\n",
       "      <td>900</td>\n",
       "      <td>1</td>\n",
       "    </tr>\n",
       "    <tr>\n",
       "      <th>9</th>\n",
       "      <td>901</td>\n",
       "      <td>0</td>\n",
       "    </tr>\n",
       "    <tr>\n",
       "      <th>10</th>\n",
       "      <td>902</td>\n",
       "      <td>0</td>\n",
       "    </tr>\n",
       "    <tr>\n",
       "      <th>11</th>\n",
       "      <td>903</td>\n",
       "      <td>0</td>\n",
       "    </tr>\n",
       "    <tr>\n",
       "      <th>12</th>\n",
       "      <td>904</td>\n",
       "      <td>1</td>\n",
       "    </tr>\n",
       "    <tr>\n",
       "      <th>13</th>\n",
       "      <td>905</td>\n",
       "      <td>0</td>\n",
       "    </tr>\n",
       "    <tr>\n",
       "      <th>14</th>\n",
       "      <td>906</td>\n",
       "      <td>1</td>\n",
       "    </tr>\n",
       "    <tr>\n",
       "      <th>15</th>\n",
       "      <td>907</td>\n",
       "      <td>1</td>\n",
       "    </tr>\n",
       "    <tr>\n",
       "      <th>16</th>\n",
       "      <td>908</td>\n",
       "      <td>0</td>\n",
       "    </tr>\n",
       "    <tr>\n",
       "      <th>17</th>\n",
       "      <td>909</td>\n",
       "      <td>0</td>\n",
       "    </tr>\n",
       "    <tr>\n",
       "      <th>18</th>\n",
       "      <td>910</td>\n",
       "      <td>1</td>\n",
       "    </tr>\n",
       "    <tr>\n",
       "      <th>19</th>\n",
       "      <td>911</td>\n",
       "      <td>1</td>\n",
       "    </tr>\n",
       "    <tr>\n",
       "      <th>20</th>\n",
       "      <td>912</td>\n",
       "      <td>0</td>\n",
       "    </tr>\n",
       "    <tr>\n",
       "      <th>21</th>\n",
       "      <td>913</td>\n",
       "      <td>1</td>\n",
       "    </tr>\n",
       "    <tr>\n",
       "      <th>22</th>\n",
       "      <td>914</td>\n",
       "      <td>1</td>\n",
       "    </tr>\n",
       "    <tr>\n",
       "      <th>23</th>\n",
       "      <td>915</td>\n",
       "      <td>0</td>\n",
       "    </tr>\n",
       "    <tr>\n",
       "      <th>24</th>\n",
       "      <td>916</td>\n",
       "      <td>1</td>\n",
       "    </tr>\n",
       "    <tr>\n",
       "      <th>25</th>\n",
       "      <td>917</td>\n",
       "      <td>0</td>\n",
       "    </tr>\n",
       "    <tr>\n",
       "      <th>26</th>\n",
       "      <td>918</td>\n",
       "      <td>1</td>\n",
       "    </tr>\n",
       "    <tr>\n",
       "      <th>27</th>\n",
       "      <td>919</td>\n",
       "      <td>0</td>\n",
       "    </tr>\n",
       "    <tr>\n",
       "      <th>28</th>\n",
       "      <td>920</td>\n",
       "      <td>0</td>\n",
       "    </tr>\n",
       "    <tr>\n",
       "      <th>29</th>\n",
       "      <td>921</td>\n",
       "      <td>0</td>\n",
       "    </tr>\n",
       "    <tr>\n",
       "      <th>...</th>\n",
       "      <td>...</td>\n",
       "      <td>...</td>\n",
       "    </tr>\n",
       "    <tr>\n",
       "      <th>388</th>\n",
       "      <td>1280</td>\n",
       "      <td>0</td>\n",
       "    </tr>\n",
       "    <tr>\n",
       "      <th>389</th>\n",
       "      <td>1281</td>\n",
       "      <td>0</td>\n",
       "    </tr>\n",
       "    <tr>\n",
       "      <th>390</th>\n",
       "      <td>1282</td>\n",
       "      <td>0</td>\n",
       "    </tr>\n",
       "    <tr>\n",
       "      <th>391</th>\n",
       "      <td>1283</td>\n",
       "      <td>1</td>\n",
       "    </tr>\n",
       "    <tr>\n",
       "      <th>392</th>\n",
       "      <td>1284</td>\n",
       "      <td>1</td>\n",
       "    </tr>\n",
       "    <tr>\n",
       "      <th>393</th>\n",
       "      <td>1285</td>\n",
       "      <td>0</td>\n",
       "    </tr>\n",
       "    <tr>\n",
       "      <th>394</th>\n",
       "      <td>1286</td>\n",
       "      <td>0</td>\n",
       "    </tr>\n",
       "    <tr>\n",
       "      <th>395</th>\n",
       "      <td>1287</td>\n",
       "      <td>1</td>\n",
       "    </tr>\n",
       "    <tr>\n",
       "      <th>396</th>\n",
       "      <td>1288</td>\n",
       "      <td>0</td>\n",
       "    </tr>\n",
       "    <tr>\n",
       "      <th>397</th>\n",
       "      <td>1289</td>\n",
       "      <td>1</td>\n",
       "    </tr>\n",
       "    <tr>\n",
       "      <th>398</th>\n",
       "      <td>1290</td>\n",
       "      <td>0</td>\n",
       "    </tr>\n",
       "    <tr>\n",
       "      <th>399</th>\n",
       "      <td>1291</td>\n",
       "      <td>0</td>\n",
       "    </tr>\n",
       "    <tr>\n",
       "      <th>400</th>\n",
       "      <td>1292</td>\n",
       "      <td>1</td>\n",
       "    </tr>\n",
       "    <tr>\n",
       "      <th>401</th>\n",
       "      <td>1293</td>\n",
       "      <td>0</td>\n",
       "    </tr>\n",
       "    <tr>\n",
       "      <th>402</th>\n",
       "      <td>1294</td>\n",
       "      <td>1</td>\n",
       "    </tr>\n",
       "    <tr>\n",
       "      <th>403</th>\n",
       "      <td>1295</td>\n",
       "      <td>0</td>\n",
       "    </tr>\n",
       "    <tr>\n",
       "      <th>404</th>\n",
       "      <td>1296</td>\n",
       "      <td>0</td>\n",
       "    </tr>\n",
       "    <tr>\n",
       "      <th>405</th>\n",
       "      <td>1297</td>\n",
       "      <td>0</td>\n",
       "    </tr>\n",
       "    <tr>\n",
       "      <th>406</th>\n",
       "      <td>1298</td>\n",
       "      <td>0</td>\n",
       "    </tr>\n",
       "    <tr>\n",
       "      <th>407</th>\n",
       "      <td>1299</td>\n",
       "      <td>0</td>\n",
       "    </tr>\n",
       "    <tr>\n",
       "      <th>408</th>\n",
       "      <td>1300</td>\n",
       "      <td>1</td>\n",
       "    </tr>\n",
       "    <tr>\n",
       "      <th>409</th>\n",
       "      <td>1301</td>\n",
       "      <td>1</td>\n",
       "    </tr>\n",
       "    <tr>\n",
       "      <th>410</th>\n",
       "      <td>1302</td>\n",
       "      <td>1</td>\n",
       "    </tr>\n",
       "    <tr>\n",
       "      <th>411</th>\n",
       "      <td>1303</td>\n",
       "      <td>1</td>\n",
       "    </tr>\n",
       "    <tr>\n",
       "      <th>412</th>\n",
       "      <td>1304</td>\n",
       "      <td>1</td>\n",
       "    </tr>\n",
       "    <tr>\n",
       "      <th>413</th>\n",
       "      <td>1305</td>\n",
       "      <td>0</td>\n",
       "    </tr>\n",
       "    <tr>\n",
       "      <th>414</th>\n",
       "      <td>1306</td>\n",
       "      <td>1</td>\n",
       "    </tr>\n",
       "    <tr>\n",
       "      <th>415</th>\n",
       "      <td>1307</td>\n",
       "      <td>0</td>\n",
       "    </tr>\n",
       "    <tr>\n",
       "      <th>416</th>\n",
       "      <td>1308</td>\n",
       "      <td>0</td>\n",
       "    </tr>\n",
       "    <tr>\n",
       "      <th>417</th>\n",
       "      <td>1309</td>\n",
       "      <td>1</td>\n",
       "    </tr>\n",
       "  </tbody>\n",
       "</table>\n",
       "<p>418 rows × 2 columns</p>\n",
       "</div>"
      ],
      "text/plain": [
       "     PassengerId  Survived\n",
       "0            892         0\n",
       "1            893         1\n",
       "2            894         0\n",
       "3            895         0\n",
       "4            896         1\n",
       "5            897         0\n",
       "6            898         1\n",
       "7            899         0\n",
       "8            900         1\n",
       "9            901         0\n",
       "10           902         0\n",
       "11           903         0\n",
       "12           904         1\n",
       "13           905         0\n",
       "14           906         1\n",
       "15           907         1\n",
       "16           908         0\n",
       "17           909         0\n",
       "18           910         1\n",
       "19           911         1\n",
       "20           912         0\n",
       "21           913         1\n",
       "22           914         1\n",
       "23           915         0\n",
       "24           916         1\n",
       "25           917         0\n",
       "26           918         1\n",
       "27           919         0\n",
       "28           920         0\n",
       "29           921         0\n",
       "..           ...       ...\n",
       "388         1280         0\n",
       "389         1281         0\n",
       "390         1282         0\n",
       "391         1283         1\n",
       "392         1284         1\n",
       "393         1285         0\n",
       "394         1286         0\n",
       "395         1287         1\n",
       "396         1288         0\n",
       "397         1289         1\n",
       "398         1290         0\n",
       "399         1291         0\n",
       "400         1292         1\n",
       "401         1293         0\n",
       "402         1294         1\n",
       "403         1295         0\n",
       "404         1296         0\n",
       "405         1297         0\n",
       "406         1298         0\n",
       "407         1299         0\n",
       "408         1300         1\n",
       "409         1301         1\n",
       "410         1302         1\n",
       "411         1303         1\n",
       "412         1304         1\n",
       "413         1305         0\n",
       "414         1306         1\n",
       "415         1307         0\n",
       "416         1308         0\n",
       "417         1309         1\n",
       "\n",
       "[418 rows x 2 columns]"
      ]
     },
     "execution_count": 93,
     "metadata": {},
     "output_type": "execute_result"
    }
   ],
   "source": [
    "from sklearn.ensemble import VotingClassifier\n",
    "rfc = RandomForestClassifier(n_estimators=10,max_depth=10)\n",
    "dtc = DecisionTreeClassifier(max_depth=6, min_samples_leaf=6)\n",
    "knn = KNeighborsClassifier(n_neighbors=8)\n",
    "svck = SVC(gamma=0.1,kernel='rbf')\n",
    "svcp = SVC(kernel='poly',degree=3)\n",
    "lgr = linear_model.LogisticRegression(C=1, penalty='l1', tol=1e-6)\n",
    "voting_clf = VotingClassifier(estimators=[('rf',rfc), ('svc',svck)],voting='hard')\n",
    "voting_clf.fit(X,y)\n",
    "results = pd.DataFrame({\"PassengerId\":data_test[\"PassengerId\"],\"Survived\":predictions})\n",
    "results.to_csv(\"Voting_rf_svc.csv\", index=False)\n",
    "results"
   ]
  }
 ],
 "metadata": {
  "kernelspec": {
   "display_name": "Python 3",
   "language": "python",
   "name": "python3"
  },
  "language_info": {
   "codemirror_mode": {
    "name": "ipython",
    "version": 3
   },
   "file_extension": ".py",
   "mimetype": "text/x-python",
   "name": "python",
   "nbconvert_exporter": "python",
   "pygments_lexer": "ipython3",
   "version": "3.6.3"
  }
 },
 "nbformat": 4,
 "nbformat_minor": 2
}
